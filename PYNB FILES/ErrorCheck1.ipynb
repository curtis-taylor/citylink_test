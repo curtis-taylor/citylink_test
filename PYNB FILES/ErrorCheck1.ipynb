{
  "nbformat": 4,
  "nbformat_minor": 0,
  "metadata": {
    "colab": {
      "name": "ErrorCheck1.ipynb",
      "provenance": [],
      "collapsed_sections": []
    },
    "kernelspec": {
      "name": "python3",
      "display_name": "Python 3"
    },
    "language_info": {
      "name": "python"
    }
  },
  "cells": [
    {
      "cell_type": "code",
      "metadata": {
        "id": "-y-HIOlfnFKr"
      },
      "source": [
        "import requests\n",
        "import pandas as pd\n",
        "import json\n",
        "import datetime\n",
        "\n",
        "#cityname = [\"London\", \"Toronto\", \"Rome\", \"Sydney\"]\n",
        "country = [\"United Kingdom\", \"Canada\", \"Italy\", \"Australia\"]\n",
        "region = [\"City of London, Greater London\", \"Ontario\", \"Lazio\", \"New South Wales\"]\n",
        "\n",
        "key_list = [\"5f7c9d283060480d857194323212906\", \"\", \"5f7c9d283060480d857194323212906\", \"5f7c9d283060480d857194323212906\", \"5f7c9d283060480d857194323212906\", \"39483\", \"5f7c9d283060480d857194323212906\"]\n",
        "q_list = [\"Toronto\", \"\", \"Moon\", \"Jupiter\", \"\", \"Rome\", \"Canada\"] # Error with Moon it brings Moonah\n",
        "\n",
        "key = \"5f7c9d283060480d857194323212906\"\n",
        "\n",
        "count = 0\n",
        "\n",
        "def error_check(json_data, i):\n",
        "  result_list = [\"location\", \"error\", \"error\", \"location\", \"error\", \"error\", \"location\"]\n",
        "  error_dict = {1002:\"API key is invalid\", 1003:\"Parameter q\", 1005:\"API request url\", 1006:\"No location found\", 2006:\"API key\"}\n",
        "\n",
        "\n",
        "  if result_list[count] == \"error\":\n",
        "    if 'error' in json_data:\n",
        "        error_code = json_data[\"error\"][\"code\"]\n",
        "        error_message = json_data[\"error\"][\"message\"]\n",
        "        print(\"$$$ {}\".format(error_dict[error_code]))\n",
        "\n",
        "        if error_dict[error_code] in error_message:\n",
        "          print(\"PASS: API error Code Message appears CORRECT for {}\".format(error_code))\n",
        "        else:\n",
        "          print(\"FAIL: API error Message INCORRECT for {}\".format(error_code))    \n",
        "    else:\n",
        "      print(\"FAIL: JSON DATA should throw an ERROR\") \n",
        "  else:\n",
        "      if 'location' in json_data:\n",
        "        print(\"PASS: NO API ERROR\")\n",
        "      else:\n",
        "        print(\"FAIL: API ERROR SHOULD NOT BE DISPLAYED\")\n",
        "\n"
      ],
      "execution_count": null,
      "outputs": []
    },
    {
      "cell_type": "code",
      "metadata": {
        "colab": {
          "base_uri": "https://localhost:8080/"
        },
        "id": "mdn-Wrjons_0",
        "outputId": "a74503e8-e89c-46b0-d3e0-e89f26d638a8"
      },
      "source": [
        "for q in q_list:\n",
        "  print(\"key: {}       q: {}\".format(key_list[count], q_list[count]))\n",
        "  timezone = \"http://api.weatherapi.com/v1/current.json?key={}&q={}\".format(key_list[count], q_list[count])\n",
        "\n",
        "  try:\n",
        "    x = requests.get(timezone)\n",
        "    print(x)\n",
        "    z = x.json()\n",
        "    print(z)\n",
        "  except VisualError:\n",
        "    print(\"ERROR\")\n",
        "\n",
        "  print(z)\n",
        "  error_check(z, count)\n",
        "  #print(\"** LOCALTIME: {}\".format(z['location']['localtime']))\n",
        "  #localtime_list = z['location']['localtime'].split(' ')\n",
        "\n",
        "  #datetime_check(localtime_list, z['location']['localtime'])\n",
        "\n",
        "  #print(\"Call Status for {} call: {}\".format(name, x))\n",
        "  #check_name(x.text, \"name\", cityname[count])\n",
        "  #check_name(x.text, \"country\", country[count])\n",
        "  #check_name(x.text, \"region\", region[count])\n",
        "  print(\"___\")\n",
        "  count = count + 1\n"
      ],
      "execution_count": null,
      "outputs": [
        {
          "output_type": "stream",
          "text": [
            "key: 5f7c9d283060480d857194323212906       q: Toronto\n",
            "<Response [200]>\n",
            "{'location': {'name': 'Toronto', 'region': 'Ontario', 'country': 'Canada', 'lat': 43.67, 'lon': -79.42, 'tz_id': 'America/Toronto', 'localtime_epoch': 1625236885, 'localtime': '2021-07-02 10:41'}, 'current': {'last_updated_epoch': 1625236200, 'last_updated': '2021-07-02 10:30', 'temp_c': 21.0, 'temp_f': 69.8, 'is_day': 1, 'condition': {'text': 'Partly cloudy', 'icon': '//cdn.weatherapi.com/weather/64x64/day/116.png', 'code': 1003}, 'wind_mph': 10.5, 'wind_kph': 16.9, 'wind_degree': 360, 'wind_dir': 'N', 'pressure_mb': 1012.0, 'pressure_in': 30.3, 'precip_mm': 0.0, 'precip_in': 0.0, 'humidity': 64, 'cloud': 25, 'feelslike_c': 21.0, 'feelslike_f': 69.8, 'vis_km': 14.0, 'vis_miles': 8.0, 'uv': 4.0, 'gust_mph': 7.6, 'gust_kph': 12.2}}\n",
            "{'location': {'name': 'Toronto', 'region': 'Ontario', 'country': 'Canada', 'lat': 43.67, 'lon': -79.42, 'tz_id': 'America/Toronto', 'localtime_epoch': 1625236885, 'localtime': '2021-07-02 10:41'}, 'current': {'last_updated_epoch': 1625236200, 'last_updated': '2021-07-02 10:30', 'temp_c': 21.0, 'temp_f': 69.8, 'is_day': 1, 'condition': {'text': 'Partly cloudy', 'icon': '//cdn.weatherapi.com/weather/64x64/day/116.png', 'code': 1003}, 'wind_mph': 10.5, 'wind_kph': 16.9, 'wind_degree': 360, 'wind_dir': 'N', 'pressure_mb': 1012.0, 'pressure_in': 30.3, 'precip_mm': 0.0, 'precip_in': 0.0, 'humidity': 64, 'cloud': 25, 'feelslike_c': 21.0, 'feelslike_f': 69.8, 'vis_km': 14.0, 'vis_miles': 8.0, 'uv': 4.0, 'gust_mph': 7.6, 'gust_kph': 12.2}}\n",
            "PASS: NO API ERROR\n",
            "___\n",
            "key:        q: \n",
            "<Response [401]>\n",
            "{'error': {'code': 1002, 'message': 'API key is invalid or not provided.'}}\n",
            "{'error': {'code': 1002, 'message': 'API key is invalid or not provided.'}}\n",
            "$$$ API key is invalid\n",
            "PASS: API error Code Message appears CORRECT for 1002\n",
            "___\n",
            "key: 5f7c9d283060480d857194323212906       q: Moon\n",
            "<Response [200]>\n",
            "{'location': {'name': 'Moonah', 'region': 'Tasmania', 'country': 'Australia', 'lat': -42.85, 'lon': 147.3, 'tz_id': 'Australia/Hobart', 'localtime_epoch': 1625236886, 'localtime': '2021-07-03 0:41'}, 'current': {'last_updated_epoch': 1625236200, 'last_updated': '2021-07-03 00:30', 'temp_c': 8.0, 'temp_f': 46.4, 'is_day': 0, 'condition': {'text': 'Light rain', 'icon': '//cdn.weatherapi.com/weather/64x64/night/296.png', 'code': 1183}, 'wind_mph': 3.8, 'wind_kph': 6.1, 'wind_degree': 280, 'wind_dir': 'W', 'pressure_mb': 1010.0, 'pressure_in': 30.3, 'precip_mm': 0.0, 'precip_in': 0.0, 'humidity': 87, 'cloud': 75, 'feelslike_c': 6.4, 'feelslike_f': 43.6, 'vis_km': 10.0, 'vis_miles': 6.0, 'uv': 1.0, 'gust_mph': 11.4, 'gust_kph': 18.4}}\n",
            "{'location': {'name': 'Moonah', 'region': 'Tasmania', 'country': 'Australia', 'lat': -42.85, 'lon': 147.3, 'tz_id': 'Australia/Hobart', 'localtime_epoch': 1625236886, 'localtime': '2021-07-03 0:41'}, 'current': {'last_updated_epoch': 1625236200, 'last_updated': '2021-07-03 00:30', 'temp_c': 8.0, 'temp_f': 46.4, 'is_day': 0, 'condition': {'text': 'Light rain', 'icon': '//cdn.weatherapi.com/weather/64x64/night/296.png', 'code': 1183}, 'wind_mph': 3.8, 'wind_kph': 6.1, 'wind_degree': 280, 'wind_dir': 'W', 'pressure_mb': 1010.0, 'pressure_in': 30.3, 'precip_mm': 0.0, 'precip_in': 0.0, 'humidity': 87, 'cloud': 75, 'feelslike_c': 6.4, 'feelslike_f': 43.6, 'vis_km': 10.0, 'vis_miles': 6.0, 'uv': 1.0, 'gust_mph': 11.4, 'gust_kph': 18.4}}\n",
            "FAIL: JSON DATA should throw an ERROR\n",
            "___\n",
            "key: 5f7c9d283060480d857194323212906       q: Jupiter\n",
            "<Response [200]>\n",
            "{'location': {'name': 'Jupiter', 'region': 'Florida', 'country': 'United States of America', 'lat': 26.93, 'lon': -80.09, 'tz_id': 'America/New_York', 'localtime_epoch': 1625236886, 'localtime': '2021-07-02 10:41'}, 'current': {'last_updated_epoch': 1625236200, 'last_updated': '2021-07-02 10:30', 'temp_c': 28.0, 'temp_f': 82.4, 'is_day': 1, 'condition': {'text': 'Partly cloudy', 'icon': '//cdn.weatherapi.com/weather/64x64/day/116.png', 'code': 1003}, 'wind_mph': 0.0, 'wind_kph': 0.0, 'wind_degree': 213, 'wind_dir': 'SSW', 'pressure_mb': 1018.0, 'pressure_in': 30.5, 'precip_mm': 1.2, 'precip_in': 0.05, 'humidity': 74, 'cloud': 75, 'feelslike_c': 32.0, 'feelslike_f': 89.6, 'vis_km': 11.0, 'vis_miles': 6.0, 'uv': 6.0, 'gust_mph': 6.5, 'gust_kph': 10.4}}\n",
            "{'location': {'name': 'Jupiter', 'region': 'Florida', 'country': 'United States of America', 'lat': 26.93, 'lon': -80.09, 'tz_id': 'America/New_York', 'localtime_epoch': 1625236886, 'localtime': '2021-07-02 10:41'}, 'current': {'last_updated_epoch': 1625236200, 'last_updated': '2021-07-02 10:30', 'temp_c': 28.0, 'temp_f': 82.4, 'is_day': 1, 'condition': {'text': 'Partly cloudy', 'icon': '//cdn.weatherapi.com/weather/64x64/day/116.png', 'code': 1003}, 'wind_mph': 0.0, 'wind_kph': 0.0, 'wind_degree': 213, 'wind_dir': 'SSW', 'pressure_mb': 1018.0, 'pressure_in': 30.5, 'precip_mm': 1.2, 'precip_in': 0.05, 'humidity': 74, 'cloud': 75, 'feelslike_c': 32.0, 'feelslike_f': 89.6, 'vis_km': 11.0, 'vis_miles': 6.0, 'uv': 6.0, 'gust_mph': 6.5, 'gust_kph': 10.4}}\n",
            "PASS: NO API ERROR\n",
            "___\n",
            "key: 5f7c9d283060480d857194323212906       q: \n",
            "<Response [400]>\n",
            "{'error': {'code': 1003, 'message': 'Parameter q is missing.'}}\n",
            "{'error': {'code': 1003, 'message': 'Parameter q is missing.'}}\n",
            "$$$ Parameter q\n",
            "PASS: API error Code Message appears CORRECT for 1003\n",
            "___\n",
            "key: 39483       q: Rome\n",
            "<Response [401]>\n",
            "{'error': {'code': 2006, 'message': 'API key is invalid.'}}\n",
            "{'error': {'code': 2006, 'message': 'API key is invalid.'}}\n",
            "$$$ API key\n",
            "PASS: API error Code Message appears CORRECT for 2006\n",
            "___\n",
            "key: 5f7c9d283060480d857194323212906       q: Canada\n",
            "<Response [200]>\n",
            "{'location': {'name': 'Ottawa', 'region': 'Ontario', 'country': 'Canada', 'lat': 45.42, 'lon': -75.7, 'tz_id': 'America/Toronto', 'localtime_epoch': 1625236887, 'localtime': '2021-07-02 10:41'}, 'current': {'last_updated_epoch': 1625236200, 'last_updated': '2021-07-02 10:30', 'temp_c': 18.0, 'temp_f': 64.4, 'is_day': 1, 'condition': {'text': 'Partly cloudy', 'icon': '//cdn.weatherapi.com/weather/64x64/day/116.png', 'code': 1003}, 'wind_mph': 9.4, 'wind_kph': 15.1, 'wind_degree': 50, 'wind_dir': 'NE', 'pressure_mb': 1012.0, 'pressure_in': 30.4, 'precip_mm': 0.3, 'precip_in': 0.01, 'humidity': 77, 'cloud': 75, 'feelslike_c': 18.0, 'feelslike_f': 64.4, 'vis_km': 24.0, 'vis_miles': 14.0, 'uv': 3.0, 'gust_mph': 13.9, 'gust_kph': 22.3}}\n",
            "{'location': {'name': 'Ottawa', 'region': 'Ontario', 'country': 'Canada', 'lat': 45.42, 'lon': -75.7, 'tz_id': 'America/Toronto', 'localtime_epoch': 1625236887, 'localtime': '2021-07-02 10:41'}, 'current': {'last_updated_epoch': 1625236200, 'last_updated': '2021-07-02 10:30', 'temp_c': 18.0, 'temp_f': 64.4, 'is_day': 1, 'condition': {'text': 'Partly cloudy', 'icon': '//cdn.weatherapi.com/weather/64x64/day/116.png', 'code': 1003}, 'wind_mph': 9.4, 'wind_kph': 15.1, 'wind_degree': 50, 'wind_dir': 'NE', 'pressure_mb': 1012.0, 'pressure_in': 30.4, 'precip_mm': 0.3, 'precip_in': 0.01, 'humidity': 77, 'cloud': 75, 'feelslike_c': 18.0, 'feelslike_f': 64.4, 'vis_km': 24.0, 'vis_miles': 14.0, 'uv': 3.0, 'gust_mph': 13.9, 'gust_kph': 22.3}}\n",
            "PASS: NO API ERROR\n",
            "___\n"
          ],
          "name": "stdout"
        }
      ]
    },
    {
      "cell_type": "code",
      "metadata": {
        "id": "AqfwDh-Bntf8"
      },
      "source": [
        ""
      ],
      "execution_count": null,
      "outputs": []
    }
  ]
}